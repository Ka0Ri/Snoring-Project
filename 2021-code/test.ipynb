{
    "cells": [
        {
            "cell_type": "code",
            "execution_count": 47,
            "source": [
                "import numpy as np\n",
                "from scipy.io import wavfile\n",
                "from scipy.signal import resample_poly\n",
                "from scipy.signal import resample_poly, firwin, freqz, lfilter, cheby1, butter\n",
                "# import matplotlib.pyplot as plt\n",
                "from scipy import fftpack\n",
                "import os\n",
                "from random import randrange\n",
                "from scipy import signal\n",
                "from scipy.fftpack import fft, dct\n",
                "from scipy import stats\n"
            ],
            "outputs": [],
            "metadata": {}
        },
        {
            "cell_type": "code",
            "execution_count": 48,
            "source": [
                "path = os.path.dirname(os.getcwd()) + \"/dataset/\"\n",
                "print(path)\n",
                "sampling_rate = 4000"
            ],
            "outputs": [
                {
                    "output_type": "stream",
                    "name": "stdout",
                    "text": [
                        "/home/vips/share/Vu/Snoring-Project/dataset/\n"
                    ]
                }
            ],
            "metadata": {}
        },
        {
            "cell_type": "markdown",
            "source": [
                "# Preprocess data"
            ],
            "metadata": {}
        },
        {
            "cell_type": "code",
            "execution_count": 64,
            "source": [
                "framing(path, 4000, 128)\n",
                "# randomly_cut_30s(path, \"snoring101\")"
            ],
            "outputs": [
                {
                    "output_type": "stream",
                    "name": "stdout",
                    "text": [
                        "snoring101.wav (10245, 512)\n",
                        "none_snoring100.wav (80199, 512)\n",
                        "none_snoring101.wav (112693, 512)\n",
                        "snoring100.wav (59672, 512)\n"
                    ]
                }
            ],
            "metadata": {}
        },
        {
            "cell_type": "markdown",
            "source": [
                "# Feature extraction for ML"
            ],
            "metadata": {}
        },
        {
            "cell_type": "markdown",
            "source": [
                "## Stastistical feature"
            ],
            "metadata": {}
        },
        {
            "cell_type": "code",
            "execution_count": 20,
            "source": [
                "def nor(data):\n",
                "    mi = np.min(data)*1.0\n",
                "    ma = np.max(data)*1.0\n",
                "    data = (2*data - ma - mi)/(ma - mi)\n",
                "    return data\n",
                "\n",
                "def stas_feature(data, spr):\n",
                "    l = data.shape[0]  \n",
                "    #fft\n",
                "    yf = fft(data)\n",
                "    yf = yf[:l//2]\n",
                "    energy = 1/(l)*np.abs(yf)\n",
                "    #feature\n",
                "    r0 = 50*l//spr\n",
                "    r1 = 250*l//spr\n",
                "    r2 = 500*l//spr\n",
                "    r3 = 800*l//spr\n",
                "     \n",
                "    mean = np.mean(energy)\n",
                "    sd = np.std(energy)\n",
                "    mean1 = np.mean(energy[r0:r1])/mean\n",
                "    sd1 = np.std(energy[r0:r1])/sd\n",
                "    mean2 = np.mean(energy[r1:r2])/mean\n",
                "    sd2 = np.std(energy[r1:r2])/sd\n",
                "    mean3 = np.mean(energy[r2:r3])/mean\n",
                "    sd3 = np.std(energy[r2:r3])/sd\n",
                "    return [mean1, mean2, mean3, sd1, sd2, sd3]\n",
                "\n",
                "    "
            ],
            "outputs": [],
            "metadata": {}
        },
        {
            "cell_type": "markdown",
            "source": [
                "## MFCC features"
            ],
            "metadata": {}
        },
        {
            "cell_type": "code",
            "execution_count": 34,
            "source": [
                "def create_filter_banks(n_filters, spr, l):\n",
                "    #create filter banks\n",
                "    filter_banks = np.zeros([n_filters, l//2])\n",
                "    lower_f = 50\n",
                "    upper_f = spr//2\n",
                "    band = np.linspace(2595*np.log(1 + lower_f/700), 2595*np.log(1 + upper_f/700), n_filters + 2)\n",
                "    band = 700*(np.exp(band/2595) - 1)\n",
                "    band = np.round(band*1000/(2*spr))\n",
                "    for i in range(1, n_filters + 1):\n",
                "        start = int(band[i - 1])\n",
                "        end = int(band[i + 1])\n",
                "        mid = int(band[i])\n",
                "        filter_banks[i - 1][start:mid] = (1.0*np.arange(start, mid) - start)/(mid - start)\n",
                "        filter_banks[i - 1][mid:end] = (end - 1.0*np.arange(mid, end))/(end - mid)\n",
                "    return filter_banks\n",
                "\n",
                "def MFCC(data, filter_banks):\n",
                "    #fft\n",
                "    sig = data\n",
                "    l = sig.shape[0]\n",
                "    yf = fft(sig)\n",
                "    yf = yf[:l//2]\n",
                "    energy = (1/l)*np.abs(yf)\n",
                "    n_filters = filter_banks.shape[0]\n",
                "    #filter\n",
                "    coeff = []\n",
                "    for i in range(0, n_filters):\n",
                "        coeff.append(np.log(np.sum(filter_banks[i] * energy)))\n",
                "    dct_coeff = dct(np.array(coeff))\n",
                "    return dct_coeff[:n_filters//2]\n",
                "\n",
                "filter_banks = create_filter_banks(26, sampling_rate, 512)"
            ],
            "outputs": [],
            "metadata": {}
        },
        {
            "cell_type": "code",
            "execution_count": 66,
            "source": [
                "def feature_extract(data, spr):\n",
                "    n, l = data.shape[:]\n",
                "    feature_vectors = []\n",
                "    hw = np.hamming(l)  \n",
                "    for i in range(0, n):\n",
                "        sig = data[i]\n",
                "        #sig = nor(sig)\n",
                "        # sig = sig - np.mean(sig)\n",
                "        sig = sig * hw\n",
                "        fea = mfcc(sig, spr, hop_length=1024,  n_mels=20)\n",
                "        # fea = stas_feature(sig, spr)\n",
                "        feature_vectors.append(fea)\n",
                "    return feature_vectors "
            ],
            "outputs": [],
            "metadata": {}
        },
        {
            "cell_type": "code",
            "execution_count": 65,
            "source": [
                "no_snoring = np.load(path + \"snoring101.npy\")\n",
                "\n",
                "n, l = no_snoring.shape[:]\n",
                "hw = np.hamming(l)\n",
                "sig =  no_snoring[0]\n",
                "sig = nor(sig)\n",
                "sig = sig * hw\n",
                "\n",
                "from librosa.feature import mfcc\n",
                "import librosa.display\n",
                "librosa_MFCC = mfcc(sig, sampling_rate, hop_length=512,  n_mels=20)\n",
                "print(librosa_MFCC)\n",
                "librosa.display.specshow(librosa_MFCC, sr=sampling_rate, x_axis='time')"
            ],
            "outputs": [
                {
                    "output_type": "stream",
                    "name": "stdout",
                    "text": [
                        "[[ 2.24907879e+01  2.24260427e+01]\n",
                        " [ 1.40169865e+01  1.47311315e+01]\n",
                        " [ 9.25685895e+00  9.80551123e+00]\n",
                        " [ 6.25658485e+00  6.36759667e+00]\n",
                        " [-1.81389593e+01 -1.87004319e+01]\n",
                        " [ 1.16060187e+00  5.63396285e-01]\n",
                        " [ 6.61575572e-01  7.39541280e-01]\n",
                        " [-1.04846295e-01  1.01119648e-02]\n",
                        " [ 9.70552462e+00  1.03891406e+01]\n",
                        " [-3.10654869e+00 -3.12026531e+00]\n",
                        " [ 2.09398643e+00  1.76997289e+00]\n",
                        " [-9.84065106e-01 -9.33759281e-01]\n",
                        " [-4.77997414e+00 -4.85725405e+00]\n",
                        " [-2.58594880e+00 -2.71649753e+00]\n",
                        " [ 3.10229290e+00  2.85517532e+00]\n",
                        " [ 3.38707452e+00  3.54865115e+00]\n",
                        " [ 1.22548243e+00  1.51340805e+00]\n",
                        " [-1.08179945e+00 -1.11637669e+00]\n",
                        " [ 2.38107209e-03  1.15722262e-01]\n",
                        " [-4.43097855e-01 -1.40355519e-01]]\n"
                    ]
                },
                {
                    "output_type": "execute_result",
                    "data": {
                        "text/plain": [
                            "<matplotlib.collections.QuadMesh at 0x7f1952fe6080>"
                        ]
                    },
                    "metadata": {},
                    "execution_count": 65
                },
                {
                    "output_type": "display_data",
                    "data": {
                        "text/plain": [
                            "<Figure size 432x288 with 1 Axes>"
                        ],
                        "image/svg+xml": "<?xml version=\"1.0\" encoding=\"utf-8\" standalone=\"no\"?>\n<!DOCTYPE svg PUBLIC \"-//W3C//DTD SVG 1.1//EN\"\n  \"http://www.w3.org/Graphics/SVG/1.1/DTD/svg11.dtd\">\n<!-- Created with matplotlib (https://matplotlib.org/) -->\n<svg height=\"262.19625pt\" version=\"1.1\" viewBox=\"0 0 369.98125 262.19625\" width=\"369.98125pt\" xmlns=\"http://www.w3.org/2000/svg\" xmlns:xlink=\"http://www.w3.org/1999/xlink\">\n <metadata>\n  <rdf:RDF xmlns:cc=\"http://creativecommons.org/ns#\" xmlns:dc=\"http://purl.org/dc/elements/1.1/\" xmlns:rdf=\"http://www.w3.org/1999/02/22-rdf-syntax-ns#\">\n   <cc:Work>\n    <dc:type rdf:resource=\"http://purl.org/dc/dcmitype/StillImage\"/>\n    <dc:date>2021-08-11T03:11:19.061275</dc:date>\n    <dc:format>image/svg+xml</dc:format>\n    <dc:creator>\n     <cc:Agent>\n      <dc:title>Matplotlib v3.3.4, https://matplotlib.org/</dc:title>\n     </cc:Agent>\n    </dc:creator>\n   </cc:Work>\n  </rdf:RDF>\n </metadata>\n <defs>\n  <style type=\"text/css\">*{stroke-linecap:butt;stroke-linejoin:round;}</style>\n </defs>\n <g id=\"figure_1\">\n  <g id=\"patch_1\">\n   <path d=\"M 0 262.19625 \nL 369.98125 262.19625 \nL 369.98125 0 \nL 0 0 \nz\n\" style=\"fill:none;\"/>\n  </g>\n  <g id=\"axes_1\">\n   <g id=\"patch_2\">\n    <path d=\"M 21.514063 224.64 \nL 356.314063 224.64 \nL 356.314063 7.2 \nL 21.514063 7.2 \nz\n\" style=\"fill:#ffffff;\"/>\n   </g>\n   <image height=\"217\" id=\"imageee1cc1b726\" transform=\"scale(1 -1)translate(0 -217)\" width=\"334\" x=\"22\" xlink:href=\"data:image/png;base64,\niVBORw0KGgoAAAANSUhEUgAAAU4AAADZCAYAAABPR9kmAAADwElEQVR4nO3dMa5TVxhGUV/7ICBCNECZMigVQ2AOGUYmwlzSp2EA9FRRCppQRwjS+fk9Oz1XV2JXx5bWGsFXWNt/c3SXP8fryw6AH7afPQDg1ggnQCScAJFwAkTCCRAJJ0AknACRcAJEwgkQLV/e/e7lEFfnfLybPQE2uTgBIuEEiIQTIBJOgEg4ASLhBIiEEyASToBIOAEi4QSIxtM3b2ZvgLWTJ5dcLxcnQCScAJFwAkTCCRAJJ0AknACRcAJEwgkQCSdAJJwA0Ti9+nn2BoCb4uIEiIQTIBJOgEg4ASLhBIiEEyASToBIOAEi4QSIhBMgWt7+9uEyewR87+F0mj0BNrk4ASLhBIiEEyASToBIOAEi4QSIhBMgEk6ASDgBouXvT5+9HOLq3F/G7AmwycUJEAknQCScAJFwAkTCCRAJJ0AknACRcAJEwgkQCSdANB4uh9kbYGXZeQnM9XJxAkTCCRAJJ0AknACRcAJEwgkQCSdAJJwAkXACRMIJEI27y6PZG2Bl78klV8zFCRAJJ0AknACRcAJEwgkQCSdAJJwAkXACRMIJEAknQDR+/euP2Rtg7e44ewFscnECRMIJEAknQCScAJFwAkTCCRAJJ0AknACRcAJEwgkQLe8/Hn1OECBwcQJEwgkQCSdAJJwAkXACRMIJEAknQCScAJFwAkTCCRCNX559nr0BVs6L/3Sul18nQCScAJFwAkTCCRAJJ0AknACRcAJEwgkQCSdAJJwA0fj3/uXsDQA3xcUJEAknQCScAJFwAkTCCRAJJ0AknACRcAJEwgkQCSdANP75+nz2BoCb4uIEiIQTIBJOgEg4ASLhBIiEEyASToBIOAEi4QSIxoufjrM3wMp5t8yeAJtcnACRcAJEwgkQCSdAJJwAkXACRMIJEAknQCScAJFwAkTj9eNPszfAynk5zJ4Am1ycAJFwAkTCCRAJJ0AknACRcAJEwgkQCSdAJJwAkXACRGN/fpi9AVYOu/vZE2CTixMgEk6ASDgBIuEEiIQTIBJOgEg4ASLhBIiEEyASToBo/PfoxewNsLLfnWdPgE0uToBIOAEi4QSIhBMgEk6ASDgBIuEEiIQTIBJOgEg4AaLx7fR89gaAm+LiBIiEEyASToBIOAEi4QSIhBMgEk6ASDgBIuEEiIQTIBpPDsfZGwBuiosTIBJOgEg4ASLhBIiEEyASToBIOAEi4QSIhBMgEk6AaNxfDrM3wMp+Oc+eAJtcnACRcAJEwgkQCSdAJJwAkXACRMIJEAknQCScAJFwAkT/A5TKOgJeWNMeAAAAAElFTkSuQmCC\" y=\"-7\"/>\n   <g id=\"matplotlib.axis_1\">\n    <g id=\"xtick_1\">\n     <g id=\"line2d_1\">\n      <defs>\n       <path d=\"M 0 0 \nL 0 3.5 \n\" id=\"m4bde5a847d\" style=\"stroke:#000000;stroke-width:0.8;\"/>\n      </defs>\n      <g>\n       <use style=\"stroke:#000000;stroke-width:0.8;\" x=\"21.514063\" xlink:href=\"#m4bde5a847d\" y=\"224.64\"/>\n      </g>\n     </g>\n     <g id=\"text_1\">\n      <!-- 0.000 -->\n      <g transform=\"translate(7.2 239.238437)scale(0.1 -0.1)\">\n       <defs>\n        <path d=\"M 31.78125 66.40625 \nQ 24.171875 66.40625 20.328125 58.90625 \nQ 16.5 51.421875 16.5 36.375 \nQ 16.5 21.390625 20.328125 13.890625 \nQ 24.171875 6.390625 31.78125 6.390625 \nQ 39.453125 6.390625 43.28125 13.890625 \nQ 47.125 21.390625 47.125 36.375 \nQ 47.125 51.421875 43.28125 58.90625 \nQ 39.453125 66.40625 31.78125 66.40625 \nz\nM 31.78125 74.21875 \nQ 44.046875 74.21875 50.515625 64.515625 \nQ 56.984375 54.828125 56.984375 36.375 \nQ 56.984375 17.96875 50.515625 8.265625 \nQ 44.046875 -1.421875 31.78125 -1.421875 \nQ 19.53125 -1.421875 13.0625 8.265625 \nQ 6.59375 17.96875 6.59375 36.375 \nQ 6.59375 54.828125 13.0625 64.515625 \nQ 19.53125 74.21875 31.78125 74.21875 \nz\n\" id=\"DejaVuSans-48\"/>\n        <path d=\"M 10.6875 12.40625 \nL 21 12.40625 \nL 21 0 \nL 10.6875 0 \nz\n\" id=\"DejaVuSans-46\"/>\n       </defs>\n       <use xlink:href=\"#DejaVuSans-48\"/>\n       <use x=\"63.623047\" xlink:href=\"#DejaVuSans-46\"/>\n       <use x=\"95.410156\" xlink:href=\"#DejaVuSans-48\"/>\n       <use x=\"159.033203\" xlink:href=\"#DejaVuSans-48\"/>\n       <use x=\"222.65625\" xlink:href=\"#DejaVuSans-48\"/>\n      </g>\n     </g>\n    </g>\n    <g id=\"xtick_2\">\n     <g id=\"line2d_2\">\n      <g>\n       <use style=\"stroke:#000000;stroke-width:0.8;\" x=\"86.904687\" xlink:href=\"#m4bde5a847d\" y=\"224.64\"/>\n      </g>\n     </g>\n     <g id=\"text_2\">\n      <!-- 0.050 -->\n      <g transform=\"translate(72.590625 239.238437)scale(0.1 -0.1)\">\n       <defs>\n        <path d=\"M 10.796875 72.90625 \nL 49.515625 72.90625 \nL 49.515625 64.59375 \nL 19.828125 64.59375 \nL 19.828125 46.734375 \nQ 21.96875 47.46875 24.109375 47.828125 \nQ 26.265625 48.1875 28.421875 48.1875 \nQ 40.625 48.1875 47.75 41.5 \nQ 54.890625 34.8125 54.890625 23.390625 \nQ 54.890625 11.625 47.5625 5.09375 \nQ 40.234375 -1.421875 26.90625 -1.421875 \nQ 22.3125 -1.421875 17.546875 -0.640625 \nQ 12.796875 0.140625 7.71875 1.703125 \nL 7.71875 11.625 \nQ 12.109375 9.234375 16.796875 8.0625 \nQ 21.484375 6.890625 26.703125 6.890625 \nQ 35.15625 6.890625 40.078125 11.328125 \nQ 45.015625 15.765625 45.015625 23.390625 \nQ 45.015625 31 40.078125 35.4375 \nQ 35.15625 39.890625 26.703125 39.890625 \nQ 22.75 39.890625 18.8125 39.015625 \nQ 14.890625 38.140625 10.796875 36.28125 \nz\n\" id=\"DejaVuSans-53\"/>\n       </defs>\n       <use xlink:href=\"#DejaVuSans-48\"/>\n       <use x=\"63.623047\" xlink:href=\"#DejaVuSans-46\"/>\n       <use x=\"95.410156\" xlink:href=\"#DejaVuSans-48\"/>\n       <use x=\"159.033203\" xlink:href=\"#DejaVuSans-53\"/>\n       <use x=\"222.65625\" xlink:href=\"#DejaVuSans-48\"/>\n      </g>\n     </g>\n    </g>\n    <g id=\"xtick_3\">\n     <g id=\"line2d_3\">\n      <g>\n       <use style=\"stroke:#000000;stroke-width:0.8;\" x=\"152.295312\" xlink:href=\"#m4bde5a847d\" y=\"224.64\"/>\n      </g>\n     </g>\n     <g id=\"text_3\">\n      <!-- 0.100 -->\n      <g transform=\"translate(137.98125 239.238437)scale(0.1 -0.1)\">\n       <defs>\n        <path d=\"M 12.40625 8.296875 \nL 28.515625 8.296875 \nL 28.515625 63.921875 \nL 10.984375 60.40625 \nL 10.984375 69.390625 \nL 28.421875 72.90625 \nL 38.28125 72.90625 \nL 38.28125 8.296875 \nL 54.390625 8.296875 \nL 54.390625 0 \nL 12.40625 0 \nz\n\" id=\"DejaVuSans-49\"/>\n       </defs>\n       <use xlink:href=\"#DejaVuSans-48\"/>\n       <use x=\"63.623047\" xlink:href=\"#DejaVuSans-46\"/>\n       <use x=\"95.410156\" xlink:href=\"#DejaVuSans-49\"/>\n       <use x=\"159.033203\" xlink:href=\"#DejaVuSans-48\"/>\n       <use x=\"222.65625\" xlink:href=\"#DejaVuSans-48\"/>\n      </g>\n     </g>\n    </g>\n    <g id=\"xtick_4\">\n     <g id=\"line2d_4\">\n      <g>\n       <use style=\"stroke:#000000;stroke-width:0.8;\" x=\"217.685938\" xlink:href=\"#m4bde5a847d\" y=\"224.64\"/>\n      </g>\n     </g>\n     <g id=\"text_4\">\n      <!-- 0.150 -->\n      <g transform=\"translate(203.371875 239.238437)scale(0.1 -0.1)\">\n       <use xlink:href=\"#DejaVuSans-48\"/>\n       <use x=\"63.623047\" xlink:href=\"#DejaVuSans-46\"/>\n       <use x=\"95.410156\" xlink:href=\"#DejaVuSans-49\"/>\n       <use x=\"159.033203\" xlink:href=\"#DejaVuSans-53\"/>\n       <use x=\"222.65625\" xlink:href=\"#DejaVuSans-48\"/>\n      </g>\n     </g>\n    </g>\n    <g id=\"xtick_5\">\n     <g id=\"line2d_5\">\n      <g>\n       <use style=\"stroke:#000000;stroke-width:0.8;\" x=\"283.076563\" xlink:href=\"#m4bde5a847d\" y=\"224.64\"/>\n      </g>\n     </g>\n     <g id=\"text_5\">\n      <!-- 0.200 -->\n      <g transform=\"translate(268.7625 239.238437)scale(0.1 -0.1)\">\n       <defs>\n        <path d=\"M 19.1875 8.296875 \nL 53.609375 8.296875 \nL 53.609375 0 \nL 7.328125 0 \nL 7.328125 8.296875 \nQ 12.9375 14.109375 22.625 23.890625 \nQ 32.328125 33.6875 34.8125 36.53125 \nQ 39.546875 41.84375 41.421875 45.53125 \nQ 43.3125 49.21875 43.3125 52.78125 \nQ 43.3125 58.59375 39.234375 62.25 \nQ 35.15625 65.921875 28.609375 65.921875 \nQ 23.96875 65.921875 18.8125 64.3125 \nQ 13.671875 62.703125 7.8125 59.421875 \nL 7.8125 69.390625 \nQ 13.765625 71.78125 18.9375 73 \nQ 24.125 74.21875 28.421875 74.21875 \nQ 39.75 74.21875 46.484375 68.546875 \nQ 53.21875 62.890625 53.21875 53.421875 \nQ 53.21875 48.921875 51.53125 44.890625 \nQ 49.859375 40.875 45.40625 35.40625 \nQ 44.1875 33.984375 37.640625 27.21875 \nQ 31.109375 20.453125 19.1875 8.296875 \nz\n\" id=\"DejaVuSans-50\"/>\n       </defs>\n       <use xlink:href=\"#DejaVuSans-48\"/>\n       <use x=\"63.623047\" xlink:href=\"#DejaVuSans-46\"/>\n       <use x=\"95.410156\" xlink:href=\"#DejaVuSans-50\"/>\n       <use x=\"159.033203\" xlink:href=\"#DejaVuSans-48\"/>\n       <use x=\"222.65625\" xlink:href=\"#DejaVuSans-48\"/>\n      </g>\n     </g>\n    </g>\n    <g id=\"xtick_6\">\n     <g id=\"line2d_6\">\n      <g>\n       <use style=\"stroke:#000000;stroke-width:0.8;\" x=\"348.467188\" xlink:href=\"#m4bde5a847d\" y=\"224.64\"/>\n      </g>\n     </g>\n     <g id=\"text_6\">\n      <!-- 0.250 -->\n      <g transform=\"translate(334.153125 239.238437)scale(0.1 -0.1)\">\n       <use xlink:href=\"#DejaVuSans-48\"/>\n       <use x=\"63.623047\" xlink:href=\"#DejaVuSans-46\"/>\n       <use x=\"95.410156\" xlink:href=\"#DejaVuSans-50\"/>\n       <use x=\"159.033203\" xlink:href=\"#DejaVuSans-53\"/>\n       <use x=\"222.65625\" xlink:href=\"#DejaVuSans-48\"/>\n      </g>\n     </g>\n    </g>\n    <g id=\"text_7\">\n     <!-- Time -->\n     <g transform=\"translate(176.680469 252.916562)scale(0.1 -0.1)\">\n      <defs>\n       <path d=\"M -0.296875 72.90625 \nL 61.375 72.90625 \nL 61.375 64.59375 \nL 35.5 64.59375 \nL 35.5 0 \nL 25.59375 0 \nL 25.59375 64.59375 \nL -0.296875 64.59375 \nz\n\" id=\"DejaVuSans-84\"/>\n       <path d=\"M 9.421875 54.6875 \nL 18.40625 54.6875 \nL 18.40625 0 \nL 9.421875 0 \nz\nM 9.421875 75.984375 \nL 18.40625 75.984375 \nL 18.40625 64.59375 \nL 9.421875 64.59375 \nz\n\" id=\"DejaVuSans-105\"/>\n       <path d=\"M 52 44.1875 \nQ 55.375 50.25 60.0625 53.125 \nQ 64.75 56 71.09375 56 \nQ 79.640625 56 84.28125 50.015625 \nQ 88.921875 44.046875 88.921875 33.015625 \nL 88.921875 0 \nL 79.890625 0 \nL 79.890625 32.71875 \nQ 79.890625 40.578125 77.09375 44.375 \nQ 74.3125 48.1875 68.609375 48.1875 \nQ 61.625 48.1875 57.5625 43.546875 \nQ 53.515625 38.921875 53.515625 30.90625 \nL 53.515625 0 \nL 44.484375 0 \nL 44.484375 32.71875 \nQ 44.484375 40.625 41.703125 44.40625 \nQ 38.921875 48.1875 33.109375 48.1875 \nQ 26.21875 48.1875 22.15625 43.53125 \nQ 18.109375 38.875 18.109375 30.90625 \nL 18.109375 0 \nL 9.078125 0 \nL 9.078125 54.6875 \nL 18.109375 54.6875 \nL 18.109375 46.1875 \nQ 21.1875 51.21875 25.484375 53.609375 \nQ 29.78125 56 35.6875 56 \nQ 41.65625 56 45.828125 52.96875 \nQ 50 49.953125 52 44.1875 \nz\n\" id=\"DejaVuSans-109\"/>\n       <path d=\"M 56.203125 29.59375 \nL 56.203125 25.203125 \nL 14.890625 25.203125 \nQ 15.484375 15.921875 20.484375 11.0625 \nQ 25.484375 6.203125 34.421875 6.203125 \nQ 39.59375 6.203125 44.453125 7.46875 \nQ 49.3125 8.734375 54.109375 11.28125 \nL 54.109375 2.78125 \nQ 49.265625 0.734375 44.1875 -0.34375 \nQ 39.109375 -1.421875 33.890625 -1.421875 \nQ 20.796875 -1.421875 13.15625 6.1875 \nQ 5.515625 13.8125 5.515625 26.8125 \nQ 5.515625 40.234375 12.765625 48.109375 \nQ 20.015625 56 32.328125 56 \nQ 43.359375 56 49.78125 48.890625 \nQ 56.203125 41.796875 56.203125 29.59375 \nz\nM 47.21875 32.234375 \nQ 47.125 39.59375 43.09375 43.984375 \nQ 39.0625 48.390625 32.421875 48.390625 \nQ 24.90625 48.390625 20.390625 44.140625 \nQ 15.875 39.890625 15.1875 32.171875 \nz\n\" id=\"DejaVuSans-101\"/>\n      </defs>\n      <use xlink:href=\"#DejaVuSans-84\"/>\n      <use x=\"57.958984\" xlink:href=\"#DejaVuSans-105\"/>\n      <use x=\"85.742188\" xlink:href=\"#DejaVuSans-109\"/>\n      <use x=\"183.154297\" xlink:href=\"#DejaVuSans-101\"/>\n     </g>\n    </g>\n   </g>\n   <g id=\"matplotlib.axis_2\"/>\n   <g id=\"patch_3\">\n    <path d=\"M 21.514063 224.64 \nL 21.514063 7.2 \n\" style=\"fill:none;stroke:#000000;stroke-linecap:square;stroke-linejoin:miter;stroke-width:0.8;\"/>\n   </g>\n   <g id=\"patch_4\">\n    <path d=\"M 356.314063 224.64 \nL 356.314063 7.2 \n\" style=\"fill:none;stroke:#000000;stroke-linecap:square;stroke-linejoin:miter;stroke-width:0.8;\"/>\n   </g>\n   <g id=\"patch_5\">\n    <path d=\"M 21.514063 224.64 \nL 356.314063 224.64 \n\" style=\"fill:none;stroke:#000000;stroke-linecap:square;stroke-linejoin:miter;stroke-width:0.8;\"/>\n   </g>\n   <g id=\"patch_6\">\n    <path d=\"M 21.514063 7.2 \nL 356.314063 7.2 \n\" style=\"fill:none;stroke:#000000;stroke-linecap:square;stroke-linejoin:miter;stroke-width:0.8;\"/>\n   </g>\n  </g>\n </g>\n</svg>\n",
                        "image/png": "[encoded data removed]"
                    },
                    "metadata": {
                        "needs_background": "light"
                    }
                }
            ],
            "metadata": {}
        },
        {
            "cell_type": "markdown",
            "source": [
                "# Machine Learning"
            ],
            "metadata": {}
        },
        {
            "cell_type": "code",
            "execution_count": null,
            "source": [
                "import numpy as np\n",
                "from sklearn import svm\n",
                "from sklearn.naive_bayes import GaussianNB\n",
                "from sklearn.linear_model import LogisticRegression\n",
                "from sklearn.mixture import GaussianMixture\n",
                "from sklearn.discriminant_analysis import LinearDiscriminantAnalysis\n",
                "from sklearn.tree import DecisionTreeClassifier\n",
                "import os\n",
                "import time\n",
                "import pickle\n",
                "import random"
            ],
            "outputs": [],
            "metadata": {}
        },
        {
            "cell_type": "code",
            "execution_count": null,
            "source": [
                "def train(file_name):\n",
                "    \n",
                "    snoring_fea_vecs = np.load(path + \"/feature/snoring_\" + file_name + \".npy\")\n",
                "    no_snoring_fea_vecs = np.load(path + \"/feature/non_snoring_\" + file_name  + \".npy\")\n",
                "    n1 = snoring_fea_vecs.shape[0]\n",
                "    n2 = no_snoring_fea_vecs.shape[0]\n",
                "    n2 = int(n1)\n",
                "    print(n1, n2)\n",
                "\n",
                "    settings = \"model\" + file_name\n",
                "\n",
                "    np.random.shuffle(snoring_fea_vecs)\n",
                "    np.random.shuffle(no_snoring_fea_vecs)\n",
                "\n",
                "    X = np.concatenate([snoring_fea_vecs, no_snoring_fea_vecs[:n2]], axis=0)\n",
                "    Y = [0]*n1 + [1]*n2\n",
                "    t1 = time.time()\n",
                "    #SVM linear\n",
                "    clf = svm.SVC(C = 100, kernel='rbf', gamma='scale')\n",
                "    clf.fit(X,Y)\n",
                "    pickle.dump(clf, open(path + \"/model/\" + settings + \"/stats_model_SVM_linear.w\",'wb')) \n",
                "\n",
                "    #train NB\n",
                "    # clf = GaussianNB()\n",
                "    # clf.fit(X, Y)\n",
                "    # pickle.dump(clf, open(path + \"/model/\" + settings + \"/model_NB.w\",'wb'))\n",
                "\n",
                "    #logistic\n",
                "    # clf = LogisticRegression(random_state=0, solver='lbfgs')\n",
                "    # clf.fit(X, Y)\n",
                "    # pickle.dump(clf, open(path + \"/model/\" + settings + \"/model_LR.w\",'wb'))\n",
                "\n",
                "    #tree\n",
                "    # clf = DecisionTreeClassifier()\n",
                "    # clf.fit(X, Y)\n",
                "    # pickle.dump(clf, open(path + \"/model/\" + settings + \"/model_DT.w\",'wb'))\n",
                "\n",
                "    #LDA\n",
                "    # clf = LinearDiscriminantAnalysis()\n",
                "    # clf.fit(X, Y)\n",
                "    # pickle.dump(clf, open(path + \"/model/\" + settings + \"/model_LDA.w\",'wb'))\n",
                "\n",
                "    #GMM\n",
                "    # clf = GaussianMixture(n_components=2)\n",
                "    # clf.fit(X)\n",
                "    # pickle.dump(clf, open(path + \"/model/\" + settings + \"/model_GMM.w\",'wb'))\n",
                "\n",
                "    t2 = time.time()\n",
                "    print(\"training time:\", t2-t1)\n",
                "\n",
                "    t1 = time.time()\n",
                "    r1 = np.sum(1-clf.predict(snoring_fea_vecs[:n1]))/(n1)\n",
                "    if(r1 < 0.5):\n",
                "        r1 = 1 - r1\n",
                "    print(\"T\", r1)\n",
                "    n2 = no_snoring_fea_vecs.shape[0]\n",
                "    r2 = np.sum(clf.predict(no_snoring_fea_vecs[:n2]))/(n2)\n",
                "    if(r2 < 0.5):\n",
                "        r2 = 1 - r2\n",
                "    print(\"F\", r2)\n",
                "    t2 = time.time()\n",
                "    print(\"testing time:\", (t2-t1))\n",
                "\n"
            ],
            "outputs": [],
            "metadata": {}
        },
        {
            "cell_type": "code",
            "execution_count": null,
            "source": [],
            "outputs": [],
            "metadata": {}
        },
        {
            "cell_type": "code",
            "execution_count": null,
            "source": [],
            "outputs": [],
            "metadata": {}
        }
    ],
    "metadata": {
        "orig_nbformat": 4,
        "language_info": {
            "name": "python",
            "version": "3.6.9",
            "mimetype": "text/x-python",
            "codemirror_mode": {
                "name": "ipython",
                "version": 3
            },
            "pygments_lexer": "ipython3",
            "nbconvert_exporter": "python",
            "file_extension": ".py"
        },
        "kernelspec": {
            "name": "python3",
            "display_name": "Python 3.6.9 64-bit ('icdsp': venv)"
        },
        "interpreter": {
            "hash": "2024ecb5b04f93d48b9d292488528cdff608cb43e64e84685cb2c31f324ec92c"
        }
    },
    "nbformat": 4,
    "nbformat_minor": 2
}